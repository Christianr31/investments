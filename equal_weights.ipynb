{
 "cells": [
  {
   "cell_type": "markdown",
   "id": "6d250028",
   "metadata": {},
   "source": [
    "## Equal Weights Strategy\n"
   ]
  },
  {
   "cell_type": "code",
   "execution_count": null,
   "id": "ac691d89",
   "metadata": {
    "vscode": {
     "languageId": "plaintext"
    }
   },
   "outputs": [],
   "source": [
    "import pandas as pd\n",
    "import numpy as np \n",
    "import yfinance as yf \n",
    "import math"
   ]
  }
 ],
 "metadata": {
  "language_info": {
   "name": "python"
  }
 },
 "nbformat": 4,
 "nbformat_minor": 5
}
