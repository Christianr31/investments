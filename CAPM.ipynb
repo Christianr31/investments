{
 "cells": [
  {
   "cell_type": "markdown",
   "id": "6d250028",
   "metadata": {},
   "source": [
    "## Capital Asset Pricing Model (CAPM)\n"
   ]
  },
  {
   "cell_type": "code",
   "execution_count": null,
   "id": "ac691d89",
   "metadata": {},
   "outputs": [],
   "source": [
    "import pandas as pd\n",
    "import numpy as np \n",
    "import yfinance as yf \n",
    "import math\n",
    "from fredapi import Fred\n",
    "import dotenv\n",
    "import os\n",
    "\n",
    "##  Formula:::: ER_i = R_f + B_i * (ER_m - R_f)\n",
    "\n"
   ]
  },
  {
   "cell_type": "markdown",
   "id": "2bc8da16",
   "metadata": {},
   "source": [
    "## Input Ticker "
   ]
  },
  {
   "cell_type": "code",
   "execution_count": null,
   "id": "afc2b49c",
   "metadata": {},
   "outputs": [],
   "source": [
    "ticker = input(\"Type in the ticker that you want. Make sure to spell it correctly.\")\n",
    "\n",
    "stock = yf.Ticker(ticker)\n",
    "\n",
    "dotenv.load_dotenv()\n",
    "\n",
    "##Setting up Fred Api\n",
    "fred= Fred(api_key = os.environ.get(\"fredapi_key\"))\n",
    "\n",
    "## risk-free rate\n",
    "R_f = fred.get_series(\"DGS3MO\").iloc[-1]/100 ##divided by 100 in order to convert it to percent\n",
    "\n",
    "## beta of the investment //based off of 5 years of monthly data\n",
    "B_i = stock.info['beta']\n",
    "\n",
    "# Market data (S&P 500)//based off all the historical data for stock closing price\n",
    "market_data = yf.download(\"^GSPC\", period=\"max\", interval=\"1mo\", auto_adjust=True)['Close']\n",
    "\n",
    "# Monthly returns\n",
    "market_returns = market_data.pct_change().dropna()\n",
    "\n",
    "# Expected annualized market return\n",
    "ER_m = ((1 + market_returns.mean())**12 - 1).squeeze()\n",
    "\n",
    "\n",
    "print(\"risk free rate:\" + str(R_f))\n",
    "print(\"Stock Beta:\" + str(B_i))\n",
    "print(\"Expected markert rate of return:\"+ str(ER_m))\n",
    "\n"
   ]
  },
  {
   "cell_type": "markdown",
   "id": "c44fef01",
   "metadata": {},
   "source": [
    "## Formula\n"
   ]
  },
  {
   "cell_type": "markdown",
   "id": "f7dbe925",
   "metadata": {},
   "source": []
  },
  {
   "cell_type": "code",
   "execution_count": null,
   "id": "7b44c491",
   "metadata": {},
   "outputs": [],
   "source": [
    "ER_i = R_f + B_i * (ER_m - R_f)\n",
    "print(ER_i)"
   ]
  }
 ],
 "metadata": {
  "kernelspec": {
   "display_name": "Python 3",
   "language": "python",
   "name": "python3"
  },
  "language_info": {
   "codemirror_mode": {
    "name": "ipython",
    "version": 3
   },
   "file_extension": ".py",
   "mimetype": "text/x-python",
   "name": "python",
   "nbconvert_exporter": "python",
   "pygments_lexer": "ipython3",
   "version": "3.10.12"
  }
 },
 "nbformat": 4,
 "nbformat_minor": 5
}
