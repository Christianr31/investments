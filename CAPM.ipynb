{
 "cells": [
  {
   "cell_type": "markdown",
   "id": "6d250028",
   "metadata": {},
   "source": [
    "## Capital Asset Pricing Model (CAPM)\n"
   ]
  },
  {
   "cell_type": "code",
   "execution_count": 87,
   "id": "ac691d89",
   "metadata": {},
   "outputs": [],
   "source": [
    "import pandas as pd\n",
    "import numpy as np \n",
    "import yfinance as yf \n",
    "import math\n",
    "from fredapi import Fred\n",
    "import dotenv\n",
    "import os\n",
    "\n"
   ]
  },
  {
   "cell_type": "markdown",
   "id": "2bc8da16",
   "metadata": {},
   "source": [
    "## Input Ticker "
   ]
  },
  {
   "cell_type": "code",
   "execution_count": null,
   "id": "afc2b49c",
   "metadata": {},
   "outputs": [
    {
     "name": "stderr",
     "output_type": "stream",
     "text": [
      "[*********************100%***********************]  1 of 1 completed"
     ]
    },
    {
     "name": "stdout",
     "output_type": "stream",
     "text": [
      "Expected markert rate of return:0.10558987688423183\n",
      "risk free rate:0.0403\n",
      "Stock Beta:1.109\n",
      "market data columnsTicker            ^GSPC\n",
      "Date                   \n",
      "1985-01-01   179.630005\n",
      "1985-02-01   181.179993\n",
      "1985-03-01   180.660004\n",
      "1985-04-01   179.830002\n",
      "1985-05-01   189.550003\n",
      "...                 ...\n",
      "2025-05-01  5911.689941\n",
      "2025-06-01  6204.950195\n",
      "2025-07-01  6339.390137\n",
      "2025-08-01  6460.259766\n",
      "2025-09-01  6664.359863\n",
      "\n",
      "[489 rows x 1 columns]\n"
     ]
    },
    {
     "name": "stderr",
     "output_type": "stream",
     "text": [
      "\n"
     ]
    }
   ],
   "source": [
    "ticker = input(\"Type in the ticker that you want. Make sure to spell it correctly.\")\n",
    "\n",
    "stock = yf.Ticker(ticker)\n",
    "\n",
    "dotenv.load_dotenv()\n",
    "\n",
    "##Setting up Fred Api\n",
    "fred= Fred(api_key = os.environ.get(\"fredapi_key\"))\n",
    "\n",
    "## risk-free rate\n",
    "R_f = fred.get_series(\"DGS3MO\").iloc[-1]/100 ##divided by 100 in order to convert it to percent\n",
    "\n",
    "## beta of the investment //based off of 5 years of monthly data\n",
    "B_i = stock.info['beta']\n",
    "\n",
    "# Market data (S&P 500)//based off all the historical data for stock closing price\n",
    "market_data = yf.download(\"^GSPC\", period=\"max\", interval=\"1mo\", auto_adjust=True)['Close']\n",
    "\n",
    "# Monthly returns\n",
    "market_returns = market_data.pct_change().dropna()\n",
    "\n",
    "# Expected annualized market return\n",
    "ER_m = ((1 + market_returns.mean())**12 - 1).squeeze()\n",
    "\n",
    "print(\"Expected markert rate of return:\"+ str(ER_m))\n",
    "print(\"risk free rate:\" + str(R_f))\n",
    "print(\"Stock Beta:\" + str(B_i))\n"
   ]
  },
  {
   "cell_type": "markdown",
   "id": "c44fef01",
   "metadata": {},
   "source": [
    "## Formula\n"
   ]
  },
  {
   "cell_type": "markdown",
   "id": "f7dbe925",
   "metadata": {},
   "source": []
  },
  {
   "cell_type": "code",
   "execution_count": 89,
   "id": "7b44c491",
   "metadata": {},
   "outputs": [
    {
     "name": "stdout",
     "output_type": "stream",
     "text": [
      "0.1127064734646131\n"
     ]
    }
   ],
   "source": [
    "ER_i = R_f + B_i * (ER_m - R_f)\n",
    "print(ER_i)"
   ]
  },
  {
   "cell_type": "markdown",
   "id": "ed1d585b",
   "metadata": {},
   "source": [
    "## Arbitrage Pricing Theory (APT)"
   ]
  },
  {
   "cell_type": "markdown",
   "id": "bde06b45",
   "metadata": {},
   "source": [
    "## Black-Scholes Model"
   ]
  }
 ],
 "metadata": {
  "kernelspec": {
   "display_name": "Python 3",
   "language": "python",
   "name": "python3"
  },
  "language_info": {
   "codemirror_mode": {
    "name": "ipython",
    "version": 3
   },
   "file_extension": ".py",
   "mimetype": "text/x-python",
   "name": "python",
   "nbconvert_exporter": "python",
   "pygments_lexer": "ipython3",
   "version": "3.10.12"
  }
 },
 "nbformat": 4,
 "nbformat_minor": 5
}
