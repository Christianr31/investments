{
 "cells": [
  {
   "cell_type": "markdown",
   "id": "32c0dcb5",
   "metadata": {},
   "source": [
    "## Arbitrage Pricing Theory (APT)"
   ]
  }
 ],
 "metadata": {
  "language_info": {
   "name": "python"
  }
 },
 "nbformat": 4,
 "nbformat_minor": 5
}
