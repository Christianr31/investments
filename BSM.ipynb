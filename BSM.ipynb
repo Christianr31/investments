{
 "cells": [
  {
   "cell_type": "markdown",
   "id": "859d760e",
   "metadata": {},
   "source": [
    "## Black-Scholes Model"
   ]
  }
 ],
 "metadata": {
  "language_info": {
   "name": "python"
  }
 },
 "nbformat": 4,
 "nbformat_minor": 5
}
